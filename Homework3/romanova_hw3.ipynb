{
 "cells": [
  {
   "cell_type": "code",
   "execution_count": 65,
   "metadata": {},
   "outputs": [],
   "source": [
    "import re\n",
    "import pandas as pd\n",
    "import requests\n",
    "import json\n",
    "from multiprocessing import Pool\n",
    "from bs4 import BeautifulSoup\n",
    "from selenium import webdriver\n",
    "import html\n",
    "from time import sleep\n",
    "from operator import setitem\n",
    "\n",
    "from collections import defaultdict"
   ]
  },
  {
   "cell_type": "code",
   "execution_count": 66,
   "metadata": {},
   "outputs": [],
   "source": [
    "authors_id = {\n",
    "  \"Достоевский Ф. М.\": 9150,\n",
    "  \"Роллинс Дж.\": 59396,\n",
    "  \"Фицджеральд Ф. С.\": 28727,\n",
    "  \"Глуховский Д. А.\": 53427,\n",
    "  \"Стругацкий А. Н.\": 26268,\n",
    "  \"Лукьяненко С. В.\": 16626,\n",
    "  \"Фрай М.\": 28927,\n",
    "  \"Хантер Э.\": 37969,\n",
    "  \"Роулинг Дж. К.\": 104832\n",
    "}\n",
    "author_url_format = \"https://www.moscowbooks.ru/catalog/author/{}\"\n",
    "book_url_format = \"https://www.moscowbooks.ru/book/{}\""
   ]
  },
  {
   "cell_type": "code",
   "execution_count": 67,
   "metadata": {},
   "outputs": [],
   "source": [
    "def get_author_cards(author_name):\n",
    "    author_id = authors_id[author_name]\n",
    "    author_cards_total = []\n",
    "    subpage_count = 1\n",
    "    while True:\n",
    "        reload_count = 0\n",
    "        while reload_count < 5: \n",
    "            response = requests.get(author_url_format.format(author_id),\\\n",
    "                                    params={'page': subpage_count})\n",
    "            if response.status_code == 200:\n",
    "                response = response.text\n",
    "                reload_count = 5\n",
    "            else:\n",
    "                reload_count += 1\n",
    "                    \n",
    "        soup = BeautifulSoup(response, 'lxml')        \n",
    "        author_cards = [item.attrs['data-productid'] \n",
    "        for item in soup.find_all('a', class_='book-preview__buy-button')]\n",
    "        if author_cards:\n",
    "            author_cards_total += author_cards\n",
    "            subpage_count += 1\n",
    "        else:\n",
    "            break\n",
    "    return author_cards_total"
   ]
  },
  {
   "cell_type": "code",
   "execution_count": 75,
   "metadata": {},
   "outputs": [],
   "source": [
    "books = []\n",
    "for author in authors_id:\n",
    "    books += get_author_cards(author)"
   ]
  },
  {
   "cell_type": "code",
   "execution_count": 76,
   "metadata": {},
   "outputs": [],
   "source": [
    "pull_attributes_int = [\n",
    "   \"Год\",\n",
    "   \"Страниц\",\n",
    "   \"Код\",\n",
    "   \"Тираж\"\n",
    "]\n",
    "\n",
    "pull_attributes_str = [\n",
    "    \"Серия\",\n",
    "    \"Издательство\",\n",
    "    \"Переплёт\",\n",
    "    \"ISBN\",\n",
    "    \"Размеры\",\n",
    "    \"Формат\",\n",
    "    \"В базе\",\n",
    "    \"Автор\",\n",
    "    \"Тематика\",\n",
    "    \"Переводчик\",\n",
    "    \"Производитель\"\n",
    "]"
   ]
  },
  {
   "cell_type": "code",
   "execution_count": 77,
   "metadata": {},
   "outputs": [],
   "source": [
    "def get_book_info(uid):\n",
    "    \n",
    "    book_url = book_url_format.format(uid)\n",
    "    book_html = requests.get(book_url).text\n",
    "    soup = BeautifulSoup(book_html, 'html.parser')\n",
    "\n",
    "    price = soup.find('div', class_='Hu Wu')\n",
    "    rating = soup.find('div', class_='He xe ')\n",
    "    stickers = ''\n",
    "    stickers_container = soup.find('div', class_='book__stickers')\n",
    "    if stickers_container:            \n",
    "        stickers_div = stickers_container.find_all('div', class_='stickers__item')\n",
    "        sticker_list = []\n",
    "        for sticker in stickers_div:\n",
    "            onhover_sticker = sticker.find('span', class_='stickers__icon')\n",
    "            if onhover_sticker:\n",
    "                sticker_list.append(onhover_sticker.attrs['title'].strip('\\n '))\n",
    "            else:\n",
    "                sticker_list.append(sticker.text.strip('\\n '))                \n",
    "        stickers = \";\".join(sticker_list)\n",
    "    availability = False\n",
    "    if soup.find('span', class_='instock1'):\n",
    "        availability = True\n",
    "    desc = soup.find('div', class_='lw')\n",
    "    \n",
    "    res = {\n",
    "        \"ID\": uid,\n",
    "        \"Автор\": soup.find('a', class_='author-name').text,\n",
    "        \"Название\": soup.find('h1', class_='page-header__title').text.\\\n",
    "            replace(author_name, \"\").strip(\"\\r\\n \"),\n",
    "        \"Обложка\": soup.find('img', class_='book__img').attrs['src'],\n",
    "        \"Рейтинг\": int(soup.find('div', class_='book___rating-stars').attrs['data-rate']),\n",
    "        \"Стикеры\": stickers,\n",
    "        \"Наличие\": availability,\n",
    "        \"Цена\": float((re.sub('\\s+', '', str(price.contents[-1]))).strip()[:-4]) if price != None else '',\n",
    "        \"Описание\": re.sub('\\s+', ' ', desc.text) if desc != None else '',\n",
    "    }\n",
    "    \n",
    "    book_details = soup.find_all('dl', class_='book__details-item')\n",
    "    for item in book_details:\n",
    "        res[item.find('dt', class_='book__details-name').\\\n",
    "            text.replace(\"\\r\", \"\").replace(\"\\n\", \"\").strip(': ')] =\\\n",
    "            item.find('dt', class_='book__details-value').text.replace(\"\\r\", \"\").\\\n",
    "            replace(\"\\n\", \"\").strip(' ')\n",
    "    return res"
   ]
  },
  {
   "cell_type": "code",
   "execution_count": 78,
   "metadata": {},
   "outputs": [
    {
     "name": "stdout",
     "output_type": "stream",
     "text": [
      "240 objects are processed..."
     ]
    }
   ],
   "source": [
    "from multiprocessing import Pool, Lock, Value\n",
    "from time import sleep\n",
    "\n",
    "mutex = Lock()\n",
    "n_processed = Value('i', 0)\n",
    "\n",
    "def func(uid):\n",
    "    return get_book_info(uid)\n",
    "\n",
    "def func_wrapper(uid):\n",
    "    res = func(uid) \n",
    "    with mutex:\n",
    "        # в этом блоке можно безопасно менять общие объекты для процессов\n",
    "        global n_processed\n",
    "        n_processed.value += 1\n",
    "        if n_processed.value % 10 == 0:\n",
    "            print(f\"\\r{n_processed.value} objects are processed...\", end='', flush=True)\n",
    "    return res\n",
    "\n",
    "with Pool(processes=10) as pool:\n",
    "    res = pool.map(func_wrapper, books)\n",
    "    \n",
    "df = pd.DataFrame(res)\n",
    "df.sort_values(by=['ID'], inplace=True)\n",
    "\n",
    "with open('hw_3.csv', mode='w', encoding='utf-8') as f_csv:\n",
    "    df.to_csv(f_csv, index=False)"
   ]
  }
 ],
 "metadata": {
  "kernelspec": {
   "display_name": "Python 3",
   "language": "python",
   "name": "python3"
  },
  "language_info": {
   "codemirror_mode": {
    "name": "ipython",
    "version": 3
   },
   "file_extension": ".py",
   "mimetype": "text/x-python",
   "name": "python",
   "nbconvert_exporter": "python",
   "pygments_lexer": "ipython3",
   "version": "3.7.1"
  }
 },
 "nbformat": 4,
 "nbformat_minor": 2
}
